{
  "nbformat": 4,
  "nbformat_minor": 0,
  "metadata": {
    "colab": {
      "name": "Pair Trading S-Score.ipynb",
      "provenance": [],
      "authorship_tag": "ABX9TyNvY9FaDu35875WAgG2gLBJ",
      "include_colab_link": true
    },
    "kernelspec": {
      "name": "python3",
      "display_name": "Python 3"
    }
  },
  "cells": [
    {
      "cell_type": "markdown",
      "metadata": {
        "id": "view-in-github",
        "colab_type": "text"
      },
      "source": [
        "<a href=\"https://colab.research.google.com/github/marcotao23/Individual-Projects/blob/master/Pair_Trading_S_Score.ipynb\" target=\"_parent\"><img src=\"https://colab.research.google.com/assets/colab-badge.svg\" alt=\"Open In Colab\"/></a>"
      ]
    },
    {
      "cell_type": "markdown",
      "metadata": {
        "id": "5bgykmirSZqL"
      },
      "source": [
        "Pairs Trading"
      ]
    },
    {
      "cell_type": "code",
      "metadata": {
        "colab": {
          "base_uri": "https://localhost:8080/"
        },
        "id": "ePGVe3aNVgGp",
        "outputId": "c36783c4-1b07-42a3-a719-5ce78a826d62"
      },
      "source": [
        "#To install the dev version of statsmodels:\n",
        "!pip install git+https://github.com/statsmodels/statsmodels\n",
        "\n",
        "#To install yfiance:\n",
        "!pip install yfinance\n",
        "\n",
        "#To install the pyfinance:\n",
        "!pip3 install pyfinance"
      ],
      "execution_count": null,
      "outputs": [
        {
          "output_type": "stream",
          "text": [
            "Collecting git+https://github.com/statsmodels/statsmodels\n",
            "  Cloning https://github.com/statsmodels/statsmodels to /tmp/pip-req-build-kat4p3d5\n",
            "  Running command git clone -q https://github.com/statsmodels/statsmodels /tmp/pip-req-build-kat4p3d5\n",
            "  Installing build dependencies ... \u001b[?25l\u001b[?25hdone\n",
            "  Getting requirements to build wheel ... \u001b[?25l\u001b[?25hdone\n",
            "    Preparing wheel metadata ... \u001b[?25l\u001b[?25hdone\n",
            "Requirement already satisfied: patsy>=0.5 in /usr/local/lib/python3.6/dist-packages (from statsmodels==0.13.0.dev0+127.g36b7f5ddf) (0.5.1)\n",
            "Requirement already satisfied: numpy>=1.15 in /usr/local/lib/python3.6/dist-packages (from statsmodels==0.13.0.dev0+127.g36b7f5ddf) (1.18.5)\n",
            "Requirement already satisfied: pandas>=0.21 in /usr/local/lib/python3.6/dist-packages (from statsmodels==0.13.0.dev0+127.g36b7f5ddf) (1.1.4)\n",
            "Requirement already satisfied: scipy>=1.1 in /usr/local/lib/python3.6/dist-packages (from statsmodels==0.13.0.dev0+127.g36b7f5ddf) (1.4.1)\n",
            "Requirement already satisfied: six in /usr/local/lib/python3.6/dist-packages (from patsy>=0.5->statsmodels==0.13.0.dev0+127.g36b7f5ddf) (1.15.0)\n",
            "Requirement already satisfied: python-dateutil>=2.7.3 in /usr/local/lib/python3.6/dist-packages (from pandas>=0.21->statsmodels==0.13.0.dev0+127.g36b7f5ddf) (2.8.1)\n",
            "Requirement already satisfied: pytz>=2017.2 in /usr/local/lib/python3.6/dist-packages (from pandas>=0.21->statsmodels==0.13.0.dev0+127.g36b7f5ddf) (2018.9)\n",
            "Building wheels for collected packages: statsmodels\n",
            "  Building wheel for statsmodels (PEP 517) ... \u001b[?25l\u001b[?25hdone\n",
            "  Created wheel for statsmodels: filename=statsmodels-0.13.0.dev0+127.g36b7f5ddf-cp36-cp36m-linux_x86_64.whl size=17738571 sha256=69d0836347f7c72f298e857f2e49ac12b6d6d71372325d5fe27a7a0e235554be\n",
            "  Stored in directory: /tmp/pip-ephem-wheel-cache-1oh76yat/wheels/7d/ad/45/ac1a03bd759c2fa74c486e2b1950d94b55f511b4c2b0418bd5\n",
            "Successfully built statsmodels\n"
          ],
          "name": "stdout"
        }
      ]
    },
    {
      "cell_type": "code",
      "metadata": {
        "id": "ZIfGnkm5UQvT",
        "colab": {
          "base_uri": "https://localhost:8080/",
          "height": 425
        },
        "outputId": "e5640c07-c558-4823-e64b-36e244b80668"
      },
      "source": [
        "## Import packages\n",
        "import pandas as pd\n",
        "import numpy as np\n",
        "#from statsmodels.regression.rolling import RollingOLS\n",
        "from statsmodels.tsa.ar_model import AutoReg, ar_select_order\n",
        "import yfinance as yf\n",
        "import statsmodels.api as sm\n",
        "import seaborn as sns\n",
        "import matplotlib.pyplot as plt\n",
        "from datetime import datetime, timedelta"
      ],
      "execution_count": 1,
      "outputs": [
        {
          "output_type": "stream",
          "text": [
            "/usr/local/lib/python3.6/dist-packages/statsmodels/tools/_testing.py:19: FutureWarning: pandas.util.testing is deprecated. Use the functions in the public API at pandas.testing instead.\n",
            "  import pandas.util.testing as tm\n"
          ],
          "name": "stderr"
        },
        {
          "output_type": "error",
          "ename": "ImportError",
          "evalue": "ignored",
          "traceback": [
            "\u001b[0;31m---------------------------------------------------------------------------\u001b[0m",
            "\u001b[0;31mImportError\u001b[0m                               Traceback (most recent call last)",
            "\u001b[0;32m<ipython-input-1-794e90a71cba>\u001b[0m in \u001b[0;36m<module>\u001b[0;34m()\u001b[0m\n\u001b[1;32m      3\u001b[0m \u001b[0;32mimport\u001b[0m \u001b[0mnumpy\u001b[0m \u001b[0;32mas\u001b[0m \u001b[0mnp\u001b[0m\u001b[0;34m\u001b[0m\u001b[0;34m\u001b[0m\u001b[0m\n\u001b[1;32m      4\u001b[0m \u001b[0;31m#from statsmodels.regression.rolling import RollingOLS\u001b[0m\u001b[0;34m\u001b[0m\u001b[0;34m\u001b[0m\u001b[0;34m\u001b[0m\u001b[0m\n\u001b[0;32m----> 5\u001b[0;31m \u001b[0;32mfrom\u001b[0m \u001b[0mstatsmodels\u001b[0m\u001b[0;34m.\u001b[0m\u001b[0mtsa\u001b[0m\u001b[0;34m.\u001b[0m\u001b[0mar_model\u001b[0m \u001b[0;32mimport\u001b[0m \u001b[0mAutoReg\u001b[0m\u001b[0;34m,\u001b[0m \u001b[0mar_select_order\u001b[0m\u001b[0;34m\u001b[0m\u001b[0;34m\u001b[0m\u001b[0m\n\u001b[0m\u001b[1;32m      6\u001b[0m \u001b[0;32mimport\u001b[0m \u001b[0myfinance\u001b[0m \u001b[0;32mas\u001b[0m \u001b[0myf\u001b[0m\u001b[0;34m\u001b[0m\u001b[0;34m\u001b[0m\u001b[0m\n\u001b[1;32m      7\u001b[0m \u001b[0;32mimport\u001b[0m \u001b[0mstatsmodels\u001b[0m\u001b[0;34m.\u001b[0m\u001b[0mapi\u001b[0m \u001b[0;32mas\u001b[0m \u001b[0msm\u001b[0m\u001b[0;34m\u001b[0m\u001b[0;34m\u001b[0m\u001b[0m\n",
            "\u001b[0;31mImportError\u001b[0m: cannot import name 'AutoReg'",
            "",
            "\u001b[0;31m---------------------------------------------------------------------------\u001b[0;32m\nNOTE: If your import is failing due to a missing package, you can\nmanually install dependencies using either !pip or !apt.\n\nTo view examples of installing some common dependencies, click the\n\"Open Examples\" button below.\n\u001b[0;31m---------------------------------------------------------------------------\u001b[0m\n"
          ]
        }
      ]
    },
    {
      "cell_type": "code",
      "metadata": {
        "id": "g5cOYCsRScZ2"
      },
      "source": [
        "class Pair:\n",
        "  # A pair consists of two stocks  \n",
        "  # All dates should in string format \"YYYY-MM-DD\"\n",
        "\n",
        "  def __init__(self, stock_ticker, etf_ticker, starttime=\"2020-01-01\", endtime=datetime.today().strftime('%Y-%m-%d'), period='1d', interval=60, counter=0):\n",
        "    #constuctor\n",
        "    self.stock = stock_ticker\n",
        "    self.etf = etf_ticker\n",
        "    self.start = starttime\n",
        "    self.end = endtime\n",
        "    self.period = period\n",
        "    self.interval = interval\n",
        "    self.counter = counter\n",
        "  \n",
        "  def getData(self, startdate=None, enddate=None):\n",
        "    #obtain adj close price for input tickers from yahoo finance\n",
        "    ''' return a dataframe of tickers period return '''\n",
        "    if startdate==None:\n",
        "      startdate=self.start\n",
        "    if enddate==None:\n",
        "      enddate=self.end\n",
        "    if startdate==self.start and enddate==self.end:\n",
        "      print(\"getting all data from start to end\")\n",
        "    stockprice = yf.Ticker(self.stock).history(period=self.period, start=startdate, end=enddate)[\"Close\"].rename(self.stock).pct_change().dropna()\n",
        "    etfprice = yf.Ticker(self.etf).history(period=self.period, start=startdate, end=enddate)[\"Close\"].rename(self.etf).pct_change().dropna()\n",
        "    data = pd.concat([stockprice, etfprice], axis=1, sort=False)\n",
        "    #print(\"getting data...\")\n",
        "    return data\n",
        "\n",
        "  def regressor(self, date):\n",
        "    #linear regression the stock return on etf return (1)\n",
        "    ''' return array of resid of the regression '''\n",
        "    returns = self.getData(startdate = (datetime.strptime(date, '%Y-%m-%d') - timedelta(self.interval)).strftime('%Y-%m-%d'), enddate = date)\n",
        "    endog = returns.iloc[:, 0].values  #y\n",
        "    exog = sm.add_constant(returns.iloc[:, 1].values) #add intercept to x\n",
        "    mod = sm.OLS(endog=endog, exog=exog)\n",
        "    model = mod.fit()\n",
        "    #print(\"regression model fitted...\")\n",
        "    return model.resid\n",
        "\n",
        "  def X(self, date):\n",
        "    #create auxiliary process X (2) \n",
        "    ''' return array of process X '''\n",
        "    resid = self.regressor(date = date)\n",
        "    X = np.zeros(len(resid))\n",
        "    X[0] = resid[0]\n",
        "    for i in range(1,len(resid)):\n",
        "      X[i] = X[i-1] + resid[i]\n",
        "    return X\n",
        "\n",
        "  def AutoRegressor(self, date):\n",
        "    #AR(1) on the process X (3)\n",
        "    ''' return tupel(a,b,k,sigma_eq) '''\n",
        "    armod = AutoReg(self.X(date = date), lags=1, old_names = False)\n",
        "    armodel = armod.fit()\n",
        "    a = armodel.params[0]\n",
        "    b = armodel.params[1]\n",
        "    k = -np.log(b)*252\n",
        "    variance = np.var(armodel.resid)\n",
        "    sigma_eq = np.sqrt(variance / (1 - b**2))\n",
        "    self.counter = self.counter + 1\n",
        "    print(\"Calculating ... day %i\" %(self.counter), end=\"\\r\")\n",
        "    return (a,b,k,sigma_eq)\n",
        "\n",
        "  def detail(self, date=datetime.today().strftime('%Y-%m-%d')):\n",
        "    #Print details of OU parameters (4)(5)\n",
        "    ''' return none '''\n",
        "    result = self.AutoRegressor(date = date)\n",
        "    a = result[0]\n",
        "    b = result[1]\n",
        "    k = result[2]\n",
        "    sigmaeq = result[3]\n",
        "    sigma = result[3] * np.sqrt(2*k)\n",
        "    s = -(result[0] / (1 - result[1])) / result[3]\n",
        "    print(\"a=%f, b=%f, k=%f, sigma=%f, sigma equilibrium=%f, s=%f\" %(a,b,k,sigma,sigmaeq,s))\n",
        "\n",
        "  def calcScore(self, date=datetime.today().strftime('%Y-%m-%d')):\n",
        "    #Gives S-Score of the date, calling without input gives today's S-score (6)\n",
        "    ''' return float S-score '''\n",
        "    self.counter = 0\n",
        "    result = self.AutoRegressor(date = date)\n",
        "    m = result[0] / (1 - result[1])\n",
        "    s = -m / result[3]\n",
        "    return s\n",
        "  \n",
        "  def rolling(self):\n",
        "    #calcualte S scores from start date to end date\n",
        "    ''' return list of S scores '''\n",
        "    date = self.start\n",
        "    Sscore = []\n",
        "    while(datetime.strptime(date, '%Y-%m-%d').strftime('%Y-%m-%d') != self.end):\n",
        "      Sscore.append(self.calcScore(date = date))\n",
        "      date = (datetime.strptime(date, '%Y-%m-%d') + timedelta(1)).strftime('%Y-%m-%d')\n",
        "    Sscore.append(self.calcScore(date = (datetime.strptime(date, '%Y-%m-%d') + timedelta(1)).strftime('%Y-%m-%d')))\n",
        "    return Sscore\n",
        "  \n",
        "  def plot(self):\n",
        "    ''' plot S scores calculated in the rolling method''' \n",
        "    scores = self.rolling()\n",
        "    Scores = pd.DataFrame(scores, columns=[\"S-Score\"], index=pd.date_range(start=self.start, end=self.end, freq='D'))\n",
        "    plt.figure(figsize=(20,10))\n",
        "    Scores.plot()\n",
        "    return\n"
      ],
      "execution_count": null,
      "outputs": []
    },
    {
      "cell_type": "markdown",
      "metadata": {
        "id": "WAl1CFvhex2g"
      },
      "source": [
        "In the case when period = 1d and interval = 60:\n",
        "\n",
        "(1) $R_{n}^{S}=\\beta_{0}+\\beta R_{n}^{ETF}+\\epsilon_{n}, \\quad n=1,2, \\ldots, 60$\n",
        "\n",
        "(2) $X_{k}=\\sum_{j=1}^{k} \\epsilon_{j} \\quad k=1,2, \\ldots, 60  ,\\quad X_{60}=0$\n",
        "\n",
        "(3) $X_{n+1}=a+b X_{n}+\\zeta_{n+1}, \\quad n=1, \\ldots, 59$\n",
        "\n",
        "(4) $\\begin{aligned} a &=m\\left(1-e^{-\\kappa \\Delta t}\\right) \\\\ b &=e^{-\\kappa \\Delta t} \\\\ \\text { Variance }(\\zeta) &=\\sigma^{2} \\frac{1-e^{-2 \\kappa \\Delta t}}{2 \\kappa} \\end{aligned}$ \n",
        "\n",
        "(5) $\\begin{aligned} \\kappa &=-\\log (b) * 252 \\\\ m &=\\frac{a}{1-b} \\\\ \\sigma &=\\sqrt{\\frac{\\text { Variance }(\\zeta) \\cdot 2 \\kappa}{1-b^{2}}} \\\\ \\sigma_{e q} &=\\sqrt{\\frac{\\text { Variance }(\\zeta)}{1-b^{2}}} \\end{aligned}$\n",
        "\n",
        "(6) $s=\\frac{X(t)-m}{v_{e q}}, \\quad X_{t}=0$\n",
        "\n",
        "$s=\\frac{-m}{\\sigma_{e q}}=\\frac{-a \\cdot \\sqrt{1-b^{2}}}{(1-b) \\cdot \\sqrt{\\operatorname{Variance}(\\zeta)}}$\n",
        "\n",
        "\n",
        "\n"
      ]
    },
    {
      "cell_type": "code",
      "metadata": {
        "id": "OHPxJS46nCV0"
      },
      "source": [
        "p1 = Pair(\"JPM\", \"XLF\", starttime=\"2006-01-01\", endtime=\"2007-12-04\")"
      ],
      "execution_count": null,
      "outputs": []
    },
    {
      "cell_type": "code",
      "metadata": {
        "colab": {
          "base_uri": "https://localhost:8080/"
        },
        "id": "aC5yS8lNu8C2",
        "outputId": "12c11b18-c548-4170-aafb-e18080719472"
      },
      "source": [
        "p1.detail(\"2006-02-03\")"
      ],
      "execution_count": null,
      "outputs": [
        {
          "output_type": "stream",
          "text": [
            "Calculating ... day 1\ra=-0.000336, b=0.912491, k=23.077541, sigma=0.088839, sigma equilibrium=0.013077, s=0.293397\n"
          ],
          "name": "stdout"
        }
      ]
    },
    {
      "cell_type": "code",
      "metadata": {
        "colab": {
          "base_uri": "https://localhost:8080/",
          "height": 295
        },
        "id": "0JxFgBMdu9gh",
        "outputId": "462f6342-1cdc-46ae-d74b-8ecb543dc1b5"
      },
      "source": [
        "p1.plot()"
      ],
      "execution_count": null,
      "outputs": [
        {
          "output_type": "stream",
          "text": [
            ""
          ],
          "name": "stdout"
        },
        {
          "output_type": "display_data",
          "data": {
            "text/plain": [
              "<Figure size 1440x720 with 0 Axes>"
            ]
          },
          "metadata": {
            "tags": []
          }
        },
        {
          "output_type": "display_data",
          "data": {
            "image/png": "[encoded data removed]",
            "text/plain": [
              "<Figure size 432x288 with 1 Axes>"
            ]
          },
          "metadata": {
            "tags": [],
            "needs_background": "light"
          }
        }
      ]
    },
    {
      "cell_type": "code",
      "metadata": {
        "id": "67_5rrpXOdR3"
      },
      "source": [
        ""
      ],
      "execution_count": null,
      "outputs": []
    }
  ]
}